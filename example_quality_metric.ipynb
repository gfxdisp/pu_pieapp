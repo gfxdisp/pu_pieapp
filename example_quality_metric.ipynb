{
 "cells": [
  {
   "cell_type": "code",
   "execution_count": 7,
   "metadata": {
    "scrolled": true
   },
   "outputs": [],
   "source": [
    "import numpy as np\n",
    "import imageio\n",
    "import matplotlib.pyplot as plt\n",
    "import torch as pt\n",
    "\n",
    "from models.common import PUPieApp, PUPieAppEndToEnd\n",
    "from loader.dataset import ImageLoader, image2patches\n",
    "\n",
    "%matplotlib inline"
   ]
  },
  {
   "cell_type": "markdown",
   "metadata": {},
   "source": [
    "# Set common variables"
   ]
  },
  {
   "cell_type": "code",
   "execution_count": 8,
   "metadata": {},
   "outputs": [],
   "source": [
    "# Path to reference and distorted iamges\n",
    "ref_path = './example_images/ldr/i06.bmp'\n",
    "dist_path ='./example_images/ldr/i06_15_5.bmp'\n",
    "dynamic_range = 'ldr'\n",
    "\n",
    "# Parameters of the display model (Assuming peak and black level of a display on which LDR image is shown).\n",
    "# Set to 100 and 0.5 if unsure. The parameter is not used for HDR images as these are given in luminance values.\n",
    "lum_top = 100\n",
    "lum_bottom = 0.5\n",
    "\n",
    "# The quality assessment model operates on 64x64 patches sampled on a regular grid. \n",
    "# The shift specifies the window shift for sampling the patchs. The smaller the shift the more accurate the model is.\n",
    "stride = 32\n",
    "saved_state_model = './net_only.pt'\n",
    "state = pt.load(saved_state_model, map_location='cpu')\n",
    "loader = ImageLoader()\n",
    "\n",
    "def read_convert_pt_image(image_path):\n",
    "    image = imageio.imread(image_path)\n",
    "    image = pt.from_numpy(imageio.core.asarray(image))\n",
    "    image = image.permute(2,0,1)\n",
    "    return image"
   ]
  },
  {
   "cell_type": "markdown",
   "metadata": {},
   "source": [
    "# Run PU-PieAPP\n",
    "\n",
    "The network takes as input:\n",
    "\n",
    "* reference image of the shape [B, C, H, W]\n",
    "* distorted image of the shape [B, C, H, W]\n",
    "* dynamic range: {'hdr','ldr'}\n",
    "* bottom luminance: typical for SDR display is 0.5\n",
    "* top luminance: typical for SDR display 100-300\n",
    "* stride: sliding window for 64x64 patches in the image\n"
   ]
  },
  {
   "cell_type": "code",
   "execution_count": 10,
   "metadata": {},
   "outputs": [
    {
     "name": "stdout",
     "output_type": "stream",
     "text": [
      "PU-PieAPP Quality Score:  -0.8524742126464844\n"
     ]
    }
   ],
   "source": [
    "# Read images and split them into patches (note: no processing is applied). \n",
    "image_ref = read_convert_pt_image(ref_path)\n",
    "image_dis = read_convert_pt_image(dist_path)\n",
    "image_ref = image_ref.unsqueeze(0)\n",
    "image_dis = image_dis.unsqueeze(0)\n",
    "\n",
    "\n",
    "# Create and load the model\n",
    "net = PUPieAppEndToEnd(state)\n",
    "net.eval();\n",
    "\n",
    "# Run the network with no gradient\n",
    "with pt.no_grad():\n",
    "    score = net(image_ref, image_dis, im_type=dynamic_range, lum_bottom=lum_bottom, lum_top=lum_top, stride =stride)\n",
    "    \n",
    "print('PU-PieAPP Quality Score: ', score.item())"
   ]
  }
 ],
 "metadata": {
  "kernelspec": {
   "display_name": "Python 3",
   "language": "python",
   "name": "python3"
  },
  "language_info": {
   "codemirror_mode": {
    "name": "ipython",
    "version": 3
   },
   "file_extension": ".py",
   "mimetype": "text/x-python",
   "name": "python",
   "nbconvert_exporter": "python",
   "pygments_lexer": "ipython3",
   "version": "3.8.5"
  }
 },
 "nbformat": 4,
 "nbformat_minor": 2
}
