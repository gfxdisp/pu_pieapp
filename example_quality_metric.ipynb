{
 "cells": [
  {
   "cell_type": "code",
   "execution_count": 1,
   "metadata": {
    "scrolled": true
   },
   "outputs": [],
   "source": [
    "import numpy as np\n",
    "import imageio\n",
    "import matplotlib.pyplot as plt\n",
    "import torch as pt\n",
    "\n",
    "from models.common import PUPieAPP\n",
    "\n",
    "%matplotlib inline"
   ]
  },
  {
   "cell_type": "markdown",
   "metadata": {},
   "source": [
    "# Run PU-PieAPP\n",
    "\n",
    "The network takes as input:\n",
    "\n",
    "* reference image of the shape [B, C, H, W]\n",
    "* distorted image of the shape [B, C, H, W]\n",
    "* dynamic range: {'hdr','sdr'}\n",
    "* stride: sliding window for 64x64 patches in the image\n",
    "* bottom luminance (only for SDR): typical for SDR display is 0.5\n",
    "* top luminance (only for SDR): typical for SDR display 100-300\n",
    "\n",
    "\n",
    "The network produces as an output a quality score for the image. Lower score means poorer quality. Two identical images passed through would result in quality score 0."
   ]
  },
  {
   "cell_type": "code",
   "execution_count": 2,
   "metadata": {},
   "outputs": [],
   "source": [
    "# Load saved weights\n",
    "saved_state_model = './net_only.pt'\n",
    "state = pt.load(saved_state_model, map_location='cpu')\n",
    "\n",
    "# Create and load the model\n",
    "net = PUPieAPP(state)\n",
    "\n",
    "# Set to evaluation mode\n",
    "net.eval();"
   ]
  },
  {
   "cell_type": "markdown",
   "metadata": {},
   "source": [
    "## Example Standard-Dynamic-Range Images"
   ]
  },
  {
   "cell_type": "code",
   "execution_count": 3,
   "metadata": {},
   "outputs": [
    {
     "name": "stdout",
     "output_type": "stream",
     "text": [
      "PU-PieAPP Quality Score:  -0.9569585919380188\n"
     ]
    }
   ],
   "source": [
    "# Path to reference and distorted iamges\n",
    "path_reference_image = './example_images/sdr_ref_1.bmp'\n",
    "path_test_image ='./example_images/sdr_test_1.bmp'\n",
    "\n",
    "# Dynamic range of the images\n",
    "dynamic_range = 'sdr'\n",
    "\n",
    "# Parameters of the display model (Assuming peak and black level of a display on which LDR image is shown).\n",
    "# Set to 100 and 0.5 if unsure. The parameter is not used for HDR images as these are given in luminance values.\n",
    "lum_top = 100\n",
    "lum_bottom = 0.5\n",
    "\n",
    "# The quality assessment model operates on 64x64 patches sampled on a regular grid. \n",
    "# The shift specifies the window shift for sampling the patchs. The smaller the shift the more accurate the model is.\n",
    "stride = 32\n",
    "\n",
    "# Read images \n",
    "image_ref = imageio.imread(path_reference_image)\n",
    "image_ref = pt.from_numpy(imageio.core.asarray(image_ref))\n",
    "image_ref = image_ref.permute(2,0,1)\n",
    "\n",
    "image_test = imageio.imread(path_test_image)\n",
    "image_test = pt.from_numpy(imageio.core.asarray(image_test))\n",
    "image_test = image_test.permute(2,0,1)\n",
    "\n",
    "# Unsqueeze to create batch dimension\n",
    "image_ref = image_ref.unsqueeze(0)\n",
    "image_test = image_test.unsqueeze(0)\n",
    "\n",
    "# Run the network with no gradient\n",
    "with pt.no_grad():\n",
    "    score = net(image_ref, image_test, im_type=dynamic_range, lum_bottom=lum_bottom, lum_top=lum_top, stride=stride)\n",
    "    \n",
    "print('PU-PieAPP Quality Score: ', score.item())"
   ]
  },
  {
   "cell_type": "markdown",
   "metadata": {},
   "source": [
    "## Example High-Dynamic-Range Images"
   ]
  },
  {
   "cell_type": "code",
   "execution_count": 4,
   "metadata": {},
   "outputs": [
    {
     "name": "stdout",
     "output_type": "stream",
     "text": [
      "PU-PieAPP Quality Score:  -1.7410155534744263\n"
     ]
    }
   ],
   "source": [
    "# Path to reference and distorted iamges\n",
    "path_reference_image = './example_images/hdr_ref.exr'\n",
    "path_test_image ='./example_images/hdr_test.exr'\n",
    "\n",
    "# Dynamic range of the images\n",
    "dynamic_range = 'hdr'\n",
    "\n",
    "# The quality assessment model operates on 64x64 patches sampled on a regular grid. \n",
    "# The shift specifies the window shift for sampling the patchs. The smaller the shift the more accurate the model is.\n",
    "stride = 32\n",
    "\n",
    "# Read images and split them into patches (note: no processing is applied). \n",
    "image_ref = imageio.imread(path_reference_image)\n",
    "image_ref = pt.from_numpy(imageio.core.asarray(image_ref))\n",
    "image_ref = image_ref.permute(2,0,1)\n",
    "\n",
    "image_test = imageio.imread(path_test_image)\n",
    "image_test = pt.from_numpy(imageio.core.asarray(image_test))\n",
    "image_test = image_test.permute(2,0,1)\n",
    "\n",
    "# Unsqueeze to create batch dimension\n",
    "image_ref = image_ref.unsqueeze(0)\n",
    "image_test = image_test.unsqueeze(0)\n",
    "\n",
    "# Run the network with no gradient\n",
    "with pt.no_grad():\n",
    "    score = net(image_ref, image_test, im_type=dynamic_range, stride = stride)\n",
    "    \n",
    "print('PU-PieAPP Quality Score: ', score.item())"
   ]
  }
 ],
 "metadata": {
  "kernelspec": {
   "display_name": "Python 3",
   "language": "python",
   "name": "python3"
  },
  "language_info": {
   "codemirror_mode": {
    "name": "ipython",
    "version": 3
   },
   "file_extension": ".py",
   "mimetype": "text/x-python",
   "name": "python",
   "nbconvert_exporter": "python",
   "pygments_lexer": "ipython3",
   "version": "3.8.5"
  }
 },
 "nbformat": 4,
 "nbformat_minor": 2
}
